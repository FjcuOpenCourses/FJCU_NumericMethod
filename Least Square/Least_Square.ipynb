{
 "cells": [
  {
   "cell_type": "code",
   "execution_count": 113,
   "id": "68d7921b",
   "metadata": {
    "scrolled": true
   },
   "outputs": [
    {
     "name": "stdout",
     "output_type": "stream",
     "text": [
      "[0.2132, 0.2391, 0.2591, 0.3443, 0.3751, 0.4534, 0.6019, 0.6515, 0.6724, 0.7522, 0.7585, 0.7929, 0.8517, 0.882, 0.9724, 1.1257, 1.1458, 1.3177, 1.331, 1.521, 1.5942, 1.6864, 1.6962, 1.879, 1.9275, 2.1155, 2.2563, 2.3059, 2.4638, 2.5408, 2.5796, 2.6237, 2.8082, 2.9439, 3.02, 3.1667, 3.3461, 3.4841, 3.6496, 3.7354, 3.8194, 3.847, 3.9516, 4.0427, 4.0483, 4.0736, 4.1431, 4.2782, 4.3983, 4.5914, 4.6689, 4.7801, 4.9574, 4.9671, 5.162, 5.2454]\n",
      "[3.218641, 3.109624, 3.020643, 2.602934, 2.439906, 2.008014, 1.175096, 0.908365, 0.799298, 0.406007, 0.376734, 0.222027, -0.020841, -0.134592, -0.424596, -0.739787, -0.764669, -0.833476, -0.828917, -0.641378, -0.522233, -0.350229, -0.331003, 0.034121, 0.126481, 0.42938, 0.576188, 0.609065, 0.648864, 0.635475, 0.621739, 0.601163, 0.474179, 0.363689, 0.305504, 0.217259, 0.175552, 0.202833, 0.299881, 0.372153, 0.452646, 0.480486, 0.588571, 0.68115, 0.686665, 0.71122, 0.774962, 0.877707, 0.939292, 0.97386, 0.967209, 0.941854, 0.879298, 0.87562, 0.811104, 0.794726]\n"
     ]
    }
   ],
   "source": [
    "import numpy as np\n",
    "import matplotlib.pyplot as plt\n",
    "import math\n",
    "\n",
    "n = 56\n",
    "minE = 0\n",
    "\n",
    "E = []\n",
    "Cf = []\n",
    "\n",
    "dataX = []\n",
    "dataY = []\n",
    "\n",
    "f = open(\"LeastSquare.txt\", \"r\")\n",
    "for line in f:\n",
    "    cut = line.replace(\"\\n\", \"\").split()\n",
    "    dataX.append(float(cut[ 0 ]))\n",
    "    dataY.append(float(cut[ 1 ]))\n",
    "    \n",
    "print(dataX)\n",
    "print(dataY)"
   ]
  },
  {
   "cell_type": "code",
   "execution_count": 114,
   "id": "4fa1fa56",
   "metadata": {},
   "outputs": [],
   "source": [
    "def Sum(forX, power):\n",
    "    ans = 0.0\n",
    "    for i in range(n):\n",
    "        if forX == 1:\n",
    "            ans += dataX[i]**power\n",
    "        else:\n",
    "            ans += dataY[i]*dataX[i]**power\n",
    "    return ans"
   ]
  },
  {
   "cell_type": "code",
   "execution_count": 115,
   "id": "6df4d819",
   "metadata": {},
   "outputs": [],
   "source": [
    "def GetY(X, degree, index):\n",
    "    ans = X[0]\n",
    "    for i in range(1, degree+1):\n",
    "        ans += X[i]*dataX[index]**i\n",
    "    return ans"
   ]
  },
  {
   "cell_type": "code",
   "execution_count": 124,
   "id": "4705b631",
   "metadata": {},
   "outputs": [
    {
     "name": "stdout",
     "output_type": "stream",
     "text": [
      "[[5.60000000e+01 1.38058300e+02 4.75537856e+02 1.87339475e+03\n",
      "  7.88988725e+03 3.46015054e+04 1.56039263e+05 7.18472207e+05\n",
      "  3.36262865e+06 1.59478841e+07 7.64718191e+07 3.70100535e+08\n",
      "  1.80533728e+09]\n",
      " [1.38058300e+02 4.75537856e+02 1.87339475e+03 7.88988725e+03\n",
      "  3.46015054e+04 1.56039263e+05 7.18472207e+05 3.36262865e+06\n",
      "  1.59478841e+07 7.64718191e+07 3.70100535e+08 1.80533728e+09\n",
      "  8.86604107e+09]\n",
      " [4.75537856e+02 1.87339475e+03 7.88988725e+03 3.46015054e+04\n",
      "  1.56039263e+05 7.18472207e+05 3.36262865e+06 1.59478841e+07\n",
      "  7.64718191e+07 3.70100535e+08 1.80533728e+09 8.86604107e+09\n",
      "  4.37956937e+10]\n",
      " [1.87339475e+03 7.88988725e+03 3.46015054e+04 1.56039263e+05\n",
      "  7.18472207e+05 3.36262865e+06 1.59478841e+07 7.64718191e+07\n",
      "  3.70100535e+08 1.80533728e+09 8.86604107e+09 4.37956937e+10\n",
      "  2.17434234e+11]\n",
      " [7.88988725e+03 3.46015054e+04 1.56039263e+05 7.18472207e+05\n",
      "  3.36262865e+06 1.59478841e+07 7.64718191e+07 3.70100535e+08\n",
      "  1.80533728e+09 8.86604107e+09 4.37956937e+10 2.17434234e+11\n",
      "  1.08427118e+12]\n",
      " [3.46015054e+04 1.56039263e+05 7.18472207e+05 3.36262865e+06\n",
      "  1.59478841e+07 7.64718191e+07 3.70100535e+08 1.80533728e+09\n",
      "  8.86604107e+09 4.37956937e+10 2.17434234e+11 1.08427118e+12\n",
      "  5.42780602e+12]\n",
      " [1.56039263e+05 7.18472207e+05 3.36262865e+06 1.59478841e+07\n",
      "  7.64718191e+07 3.70100535e+08 1.80533728e+09 8.86604107e+09\n",
      "  4.37956937e+10 2.17434234e+11 1.08427118e+12 5.42780602e+12\n",
      "  2.72638193e+13]\n",
      " [7.18472207e+05 3.36262865e+06 1.59478841e+07 7.64718191e+07\n",
      "  3.70100535e+08 1.80533728e+09 8.86604107e+09 4.37956937e+10\n",
      "  2.17434234e+11 1.08427118e+12 5.42780602e+12 2.72638193e+13\n",
      "  1.37358337e+14]\n",
      " [3.36262865e+06 1.59478841e+07 7.64718191e+07 3.70100535e+08\n",
      "  1.80533728e+09 8.86604107e+09 4.37956937e+10 2.17434234e+11\n",
      "  1.08427118e+12 5.42780602e+12 2.72638193e+13 1.37358337e+14\n",
      "  6.93880437e+14]\n",
      " [1.59478841e+07 7.64718191e+07 3.70100535e+08 1.80533728e+09\n",
      "  8.86604107e+09 4.37956937e+10 2.17434234e+11 1.08427118e+12\n",
      "  5.42780602e+12 2.72638193e+13 1.37358337e+14 6.93880437e+14\n",
      "  3.51359774e+15]\n",
      " [7.64718191e+07 3.70100535e+08 1.80533728e+09 8.86604107e+09\n",
      "  4.37956937e+10 2.17434234e+11 1.08427118e+12 5.42780602e+12\n",
      "  2.72638193e+13 1.37358337e+14 6.93880437e+14 3.51359774e+15\n",
      "  1.78300013e+16]\n",
      " [3.70100535e+08 1.80533728e+09 8.86604107e+09 4.37956937e+10\n",
      "  2.17434234e+11 1.08427118e+12 5.42780602e+12 2.72638193e+13\n",
      "  1.37358337e+14 6.93880437e+14 3.51359774e+15 1.78300013e+16\n",
      "  9.06549630e+16]\n",
      " [1.80533728e+09 8.86604107e+09 4.37956937e+10 2.17434234e+11\n",
      "  1.08427118e+12 5.42780602e+12 2.72638193e+13 1.37358337e+14\n",
      "  6.93880437e+14 3.51359774e+15 1.78300013e+16 9.06549630e+16\n",
      "  4.61736261e+17]]\n",
      "\n",
      "\n",
      "[3.38254640e+01 7.42087418e+01 2.98140987e+02 1.30024170e+03\n",
      " 5.81841358e+03 2.65521369e+04 1.23143503e+05 5.78704668e+05\n",
      " 2.74937144e+06 1.31822062e+07 6.37016509e+07 3.09938694e+08\n",
      " 1.51706359e+09]\n",
      "\n",
      "\n",
      "[ 3.73399697e+00 -4.59178876e-01 -1.07431645e+01  6.89248575e+00\n",
      "  2.34153908e+00 -3.01561894e+00  8.36874374e-01 -1.31459278e-01\n",
      "  7.55778193e-02 -3.55511821e-02  7.75017373e-03 -8.00265281e-04\n",
      "  3.22124396e-05]\n"
     ]
    }
   ],
   "source": [
    "for i in range(12, 13):\n",
    "    A = np.zeros((i+1, i+1))\n",
    "    B = np.zeros(i+1)\n",
    "    \n",
    "    for j in range(i+1):\n",
    "        for k in range(i+1):\n",
    "            A[j][k] = Sum(1, j+k)\n",
    "            \n",
    "    A[0][0] = n\n",
    "    for j in range(i+1):\n",
    "        B[j] = Sum(0, j)\n",
    "        \n",
    "    X = np.linalg.solve(A, B)\n",
    "    print(A)\n",
    "    print(\"\\n\")\n",
    "    print(B)\n",
    "    print(\"\\n\")\n",
    "    print(X)\n",
    "    np.save('A', A)\n",
    "    np.save('B', B)"
   ]
  },
  {
   "cell_type": "code",
   "execution_count": 122,
   "id": "04befb1c",
   "metadata": {
    "scrolled": false
   },
   "outputs": [
    {
     "name": "stdout",
     "output_type": "stream",
     "text": [
      "[0.9049487229754288, 0.7353115452162848, 0.5132422080881254, 0.3104144079558453, 0.2364999114549179, 0.1989099079057543, 0.040906463973330386, 0.041051902318633655, 0.004776131325464336, 0.004590647567327178, 0.0008674544598818683, 0.0006249966748741304, 0.000614712899841262, 0.000568221995528925, 0.0006349060889461723, 0.0001658657734182274, 0.0021475052802165944, 0.000246601727942595, 0.00046524739446934755, 0.00038502564093330485, 0.00020947390258645735, 0.00020037813196231228, 0.00012432694398775812, 0.010448929741198855, 0.000166449798051585, 0.00017692750612508402, 0.00011864378419550668, 0.00025630249688771297, 0.00030674351893742276, 0.0005515404368581931, 0.00020577680498594557, 0.00012030790142696722, 0.0001414851582724798, 0.00015687234166275173, 0.000623938480122517, 0.0004016198930416951, 0.00031774248928286795, 0.0005363363589764052, 0.0002353910819838961, 0.0009320001009637006, 0.00016156458834464048, 0.0009229982743214904, 0.0005560919035237327, 0.0002285270749024495, 0.0004184698301933351, 0.0004914755449809494, 0.00037331806553890994, 0.0024794279707361765, 0.001685345279218201, 0.0008526134012945605, 0.0005457736532582823, 0.001968027674418721, 0.0013187076063324744, 0.0017261899408406451, 0.008766272612092034, 0.9049487229754288, 0.7353115452162848, 0.5132422080881254, 0.3104144079558453, 0.2364999114549179, 0.1989099079057543, 0.040906463973330386, 0.041051902318633655, 0.004776131325464336, 0.004590647567327178, 0.0008674544598818683, 0.0006249966748741304, 0.000614712899841262, 0.000568221995528925, 0.0006349060889461723, 0.0001658657734182274, 0.0021475052802165944, 0.000246601727942595, 0.00046524739446934755, 0.00038502564093330485, 0.00020947390258645735, 0.00020037813196231228, 0.00012432694398775812, 0.010448929741198855, 0.000166449798051585, 0.00017692750612508402, 0.00011864378419550668, 0.00025630249688771297, 0.00030674351893742276, 0.0005515404368581931, 0.00020577680498594557, 0.00012030790142696722, 0.0001414851582724798, 0.00015687234166275173, 0.000623938480122517, 0.0004016198930416951, 0.00031774248928286795, 0.0005363363589764052, 0.0002353910819838961, 0.0009320001009637006, 0.00016156458834464048, 0.0009229982743214904, 0.0005560919035237327, 0.0002285270749024495, 0.0004184698301933351, 0.0004914755449809494, 0.00037331806553890994, 0.0024794279707361765, 0.001685345279218201, 0.0008526134012945605, 0.0005457736532582823, 0.001968027674418721, 0.0013187076063324744, 0.0017261899408406451, 0.008766272612092034]\n",
      "26\n",
      "0.00011864378419550668\n",
      "0.00030674351893742276\n",
      "0.0005515404368581931\n"
     ]
    }
   ],
   "source": [
    "for i in range(1, n):\n",
    "    A = np.zeros((i+1, i+1))\n",
    "    B = np.zeros(i+1)\n",
    "    \n",
    "    for j in range(i+1):\n",
    "        for k in range(i+1):\n",
    "            A[j][k] = Sum(1, j+k)\n",
    "            \n",
    "    A[0][0] = n\n",
    "    for j in range(i+1):\n",
    "        B[j] = Sum(0, j)\n",
    "        \n",
    "    X = np.linalg.solve(A, B)\n",
    "    # print(X)\n",
    "    \n",
    "    Cf.append(X)\n",
    "    \n",
    "\n",
    "    Err = 0.0\n",
    "    for j in range(n):\n",
    "        tmp = GetY(X, i, j) - dataY[j]\n",
    "        Err += tmp**2\n",
    "    \n",
    "    E.append( math.sqrt(Err/(n-i)) )\n",
    "\n",
    "    \n",
    "for i in range(n-1):\n",
    "    if E[i] < E[minE]:\n",
    "        minE = i\n",
    "    \n",
    "print(E)\n",
    "print(minE)\n",
    "print(E[minE])\n",
    "print(E[28])\n",
    "print(E[29])"
   ]
  },
  {
   "cell_type": "code",
   "execution_count": 126,
   "id": "3ceb716b",
   "metadata": {
    "scrolled": true
   },
   "outputs": [
    {
     "name": "stdout",
     "output_type": "stream",
     "text": [
      "[ 3.77630457e+00 -9.25294531e-01 -8.76366055e+00  2.59770444e+00\n",
      "  7.61895688e+00 -6.76298091e+00  2.22681668e+00 -2.21487125e-01\n",
      " -6.56315050e-02  2.24009597e-02 -2.30656095e-04 -1.06291044e-03\n",
      "  1.60834045e-04  1.42157956e-05 -5.99327661e-06  3.77672209e-07\n",
      "  1.38865922e-07 -4.47930035e-08  6.35543932e-09 -2.25684270e-10\n",
      " -2.22724435e-10  2.75589084e-11  1.47884715e-11 -3.58794368e-12\n",
      "  5.29014379e-14  4.46719022e-14 -2.97354093e-15 -1.69244869e-17]\n",
      "[ 0.77148428 -0.06792533]\n",
      "[ 3.73399697e+00 -4.59178876e-01 -1.07431645e+01  6.89248575e+00\n",
      "  2.34153908e+00 -3.01561894e+00  8.36874374e-01 -1.31459278e-01\n",
      "  7.55778193e-02 -3.55511821e-02  7.75017373e-03 -8.00265281e-04\n",
      "  3.22124396e-05]\n"
     ]
    }
   ],
   "source": [
    "print(Cf[minE])\n",
    "print(Cf[0])\n",
    "print(Cf[11])"
   ]
  },
  {
   "cell_type": "code",
   "execution_count": 119,
   "id": "1e7da973",
   "metadata": {},
   "outputs": [],
   "source": [
    "def Poly(x, degree):\n",
    "    ans = Cf[degree-1][0]\n",
    "    for i in range(1, degree+1):\n",
    "        ans += Cf[degree-1][i]*x**i\n",
    "    return ans"
   ]
  },
  {
   "cell_type": "code",
   "execution_count": 120,
   "id": "281a4c8e",
   "metadata": {},
   "outputs": [
    {
     "data": {
      "image/png": "[encoded data removed]",
      "text/plain": [
       "<Figure size 432x288 with 1 Axes>"
      ]
     },
     "metadata": {
      "needs_background": "light"
     },
     "output_type": "display_data"
    }
   ],
   "source": [
    "plt.plot(dataX, dataY, '.')\n",
    "\n",
    "# Print every poly  \n",
    "for p in range(1, n):\n",
    "    d = np.linspace(dataX[ p-1 ], dataX[ p ], 100)\n",
    "    plt.plot(d, Poly(d, p), '--')\n",
    "    \n",
    "plt.show()"
   ]
  },
  {
   "cell_type": "code",
   "execution_count": null,
   "id": "f035296e",
   "metadata": {},
   "outputs": [],
   "source": []
  }
 ],
 "metadata": {
  "kernelspec": {
   "display_name": "Python 3",
   "language": "python",
   "name": "python3"
  },
  "language_info": {
   "codemirror_mode": {
    "name": "ipython",
    "version": 3
   },
   "file_extension": ".py",
   "mimetype": "text/x-python",
   "name": "python",
   "nbconvert_exporter": "python",
   "pygments_lexer": "ipython3",
   "version": "3.8.8"
  }
 },
 "nbformat": 4,
 "nbformat_minor": 5
}
