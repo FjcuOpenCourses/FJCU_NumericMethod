{
 "cells": [
  {
   "cell_type": "code",
   "execution_count": 3,
   "id": "623df9f3",
   "metadata": {},
   "outputs": [
    {
     "name": "stdout",
     "output_type": "stream",
     "text": [
      "[1.3746, 2.921, 5.3265, 8.7629, 10.6529, 16.1512, 19.9313, 26.2887, 31.2715, 34.0206, 38.488, 43.299, 46.5636, 47.5945, 51.89, 61.8557, 64.9485, 72.6804, 79.3815, 84.7079, 93.9863, 97.2509]\n",
      "[24.9141, 23.3677, 21.9931, 21.3058, 21.6495, 23.3677, 26.6323, 27.6632, 25.4296, 24.2268, 23.0241, 24.055, 25.4296, 29.7251, 39.3471, 39.8626, 37.8007, 33.5052, 33.1615, 33.5052, 37.2852, 41.0653]\n"
     ]
    }
   ],
   "source": [
    "import numpy as np\n",
    "import matplotlib.pyplot as plt\n",
    "\n",
    "n = 22\n",
    "case = 1\n",
    "\n",
    "# Init\n",
    "A = np.zeros((n-2, n-2))\n",
    "B = np.zeros(n-2)\n",
    "H = np.zeros(n+1)\n",
    "\n",
    "dataX = []\n",
    "dataY = []\n",
    "\n",
    "f = open(\"DataSheet.in\", \"r\")\n",
    "for line in f:\n",
    "    cut = line.replace(\"\\n\", \"\").split()\n",
    "    dataX.append(float(cut[ 0 ]))\n",
    "    dataY.append(float(cut[ 1 ]))\n",
    "    \n",
    "print(dataX)\n",
    "print(dataY)"
   ]
  },
  {
   "cell_type": "code",
   "execution_count": 9,
   "id": "86c405cf",
   "metadata": {
    "scrolled": true
   },
   "outputs": [
    {
     "name": "stdout",
     "output_type": "stream",
     "text": [
      "[[ 7.9038  2.4055  0.      0.      0.      0.      0.      0.      0.\n",
      "   0.      0.      0.      0.      0.      0.      0.      0.      0.\n",
      "   0.      0.    ]\n",
      " [ 2.4055 11.6838  3.4364  0.      0.      0.      0.      0.      0.\n",
      "   0.      0.      0.      0.      0.      0.      0.      0.      0.\n",
      "   0.      0.    ]\n",
      " [ 0.      3.4364 10.6528  1.89    0.      0.      0.      0.      0.\n",
      "   0.      0.      0.      0.      0.      0.      0.      0.      0.\n",
      "   0.      0.    ]\n",
      " [ 0.      0.      1.89   14.7766  5.4983  0.      0.      0.      0.\n",
      "   0.      0.      0.      0.      0.      0.      0.      0.      0.\n",
      "   0.      0.    ]\n",
      " [ 0.      0.      0.      5.4983 18.5568  3.7801  0.      0.      0.\n",
      "   0.      0.      0.      0.      0.      0.      0.      0.      0.\n",
      "   0.      0.    ]\n",
      " [ 0.      0.      0.      0.      3.7801 20.275   6.3574  0.      0.\n",
      "   0.      0.      0.      0.      0.      0.      0.      0.      0.\n",
      "   0.      0.    ]\n",
      " [ 0.      0.      0.      0.      0.      6.3574 22.6804  4.9828  0.\n",
      "   0.      0.      0.      0.      0.      0.      0.      0.      0.\n",
      "   0.      0.    ]\n",
      " [ 0.      0.      0.      0.      0.      0.      4.9828 15.4638  2.7491\n",
      "   0.      0.      0.      0.      0.      0.      0.      0.      0.\n",
      "   0.      0.    ]\n",
      " [ 0.      0.      0.      0.      0.      0.      0.      2.7491 14.433\n",
      "   4.4674  0.      0.      0.      0.      0.      0.      0.      0.\n",
      "   0.      0.    ]\n",
      " [ 0.      0.      0.      0.      0.      0.      0.      0.      4.4674\n",
      "  18.5568  4.811   0.      0.      0.      0.      0.      0.      0.\n",
      "   0.      0.    ]\n",
      " [ 0.      0.      0.      0.      0.      0.      0.      0.      0.\n",
      "   4.811  16.1512  3.2646  0.      0.      0.      0.      0.      0.\n",
      "   0.      0.    ]\n",
      " [ 0.      0.      0.      0.      0.      0.      0.      0.      0.\n",
      "   0.      3.2646  8.591   1.0309  0.      0.      0.      0.      0.\n",
      "   0.      0.    ]\n",
      " [ 0.      0.      0.      0.      0.      0.      0.      0.      0.\n",
      "   0.      0.      1.0309 10.6528  4.2955  0.      0.      0.      0.\n",
      "   0.      0.    ]\n",
      " [ 0.      0.      0.      0.      0.      0.      0.      0.      0.\n",
      "   0.      0.      0.      4.2955 28.5224  9.9657  0.      0.      0.\n",
      "   0.      0.    ]\n",
      " [ 0.      0.      0.      0.      0.      0.      0.      0.      0.\n",
      "   0.      0.      0.      0.      9.9657 26.117   3.0928  0.      0.\n",
      "   0.      0.    ]\n",
      " [ 0.      0.      0.      0.      0.      0.      0.      0.      0.\n",
      "   0.      0.      0.      0.      0.      3.0928 21.6494  7.7319  0.\n",
      "   0.      0.    ]\n",
      " [ 0.      0.      0.      0.      0.      0.      0.      0.      0.\n",
      "   0.      0.      0.      0.      0.      0.      7.7319 28.866   6.7011\n",
      "   0.      0.    ]\n",
      " [ 0.      0.      0.      0.      0.      0.      0.      0.      0.\n",
      "   0.      0.      0.      0.      0.      0.      0.      6.7011 24.055\n",
      "   5.3264  0.    ]\n",
      " [ 0.      0.      0.      0.      0.      0.      0.      0.      0.\n",
      "   0.      0.      0.      0.      0.      0.      0.      0.      5.3264\n",
      "  29.2096  9.2784]\n",
      " [ 0.      0.      0.      0.      0.      0.      0.      0.      0.\n",
      "   0.      0.      0.      0.      0.      0.      0.      0.      0.\n",
      "   9.2784 25.086 ]]\n",
      "\n",
      "\n",
      "[  2.57135731   2.22860777   2.29114603   0.78386843   3.30678814\n",
      "  -4.20882276  -3.66251704   0.06442208   1.00984808   2.90098062\n",
      "   1.24069518  22.47411118 -11.56037327 -13.12974719  -4.31042922\n",
      "   0.66673133   3.02559281   0.69490634   2.05722115   4.50304917]\n"
     ]
    }
   ],
   "source": [
    "for i in range(n-1):\n",
    "    H[ i ] = dataX[ i+1 ] - dataX[ i ]\n",
    "\n",
    "if case == 1:\n",
    "    A[ 0 ][ 0 ] = 2 * (H[ 0 ] + H[ 1 ])\n",
    "    A[ 0 ][ 1 ] = H[ 1 ]\n",
    "    A[ n-3 ][ n-4 ] = H[ n-3 ]\n",
    "    A[ n-3 ][ n-3 ] = 2 * (H[ n-3 ] + H[ n-2 ])\n",
    "\n",
    "elif case == 2:\n",
    "    A[ 0 ][ 0 ] = 3 * H[ 0 ] + 2 * H[ 1 ]\n",
    "    A[ 0 ][ 1 ] = H[ 1 ]\n",
    "    A[ n-3 ][ n-4 ] = H[ n-3 ]\n",
    "    A[ n-3 ][ n-3 ] = 2 * H[ n-3 ] + 3 * H[ n-2 ]\n",
    "else:\n",
    "    A[ 0 ][ 0 ] = (H[0]+H[1])*(H[0]+2*H[1])/H[1]\n",
    "    A[ 0 ][ 1 ] = (H[1]**2-H[0]**2)/H[1]\n",
    "    A[ n-3 ][ n-4 ] = (H[n-3]**2-H[n-2]**2)/H[n-3]\n",
    "    A[ n-3 ][ n-3 ] = (H[n-2]+H[n-3])*(H[n-2]+2*H[n-3])/H[n-3]\n",
    "    \n",
    "for i in range(1, n-3):\n",
    "    A[ i ][ i-1 ] = H[ i ]\n",
    "    A[ i ][ i ] = 2 * (H[ i ] + H[ i+1 ])\n",
    "    A[ i ][ i+1 ] = H[ i+1 ]\n",
    "\n",
    "print(A)\n",
    "print(\"\\n\")\n",
    "\n",
    "for i in range(n-2):\n",
    "    u = (dataY[ i+2 ] - dataY[ i+1 ]) / H[ i+1 ]\n",
    "    d = (dataY[ i+1 ] - dataY[ i ]) / H[ i ]\n",
    "    B[ i ] = 6 * (u - d)\n",
    "\n",
    "print(B)"
   ]
  },
  {
   "cell_type": "code",
   "execution_count": 5,
   "id": "4233ed18",
   "metadata": {
    "scrolled": true
   },
   "outputs": [
    {
     "name": "stdout",
     "output_type": "stream",
     "text": [
      "Origin S = \n",
      "[ 0.30465781  0.06792886  0.20430863 -0.06282733  0.24118353 -0.21781512\n",
      " -0.11078728  0.04714632 -0.04096189  0.32937305 -0.62941925  3.00862513\n",
      " -1.2786742  -0.24223127 -0.07306912  0.00385447  0.1046667  -0.00380811\n",
      "  0.01598234  0.17359319]\n",
      "New S = \n",
      "[ 0.          0.30465781  0.06792886  0.20430863 -0.06282733  0.24118353\n",
      " -0.21781512 -0.11078728  0.04714632 -0.04096189  0.32937305 -0.62941925\n",
      "  3.00862513 -1.2786742  -0.24223127 -0.07306912  0.00385447  0.1046667\n",
      " -0.00380811  0.01598234  0.17359319  0.        ]\n"
     ]
    }
   ],
   "source": [
    "S = np.linalg.solve(A, B)\n",
    "print(\"Origin S = \")\n",
    "print(S)\n",
    "\n",
    "\n",
    "if case == 1:\n",
    "    S = np.insert(S, 0, 0)\n",
    "    S = np.append(S, 0)\n",
    "\n",
    "elif case == 2:\n",
    "    S = np.insert(S, 0, S[ 0 ])\n",
    "    S = np.append(S, S[-1])\n",
    "else:\n",
    "    t1 = ((H[0]+H[1])*S[0]-H[0]*S[1])/H[1]\n",
    "    t2 = ((H[n-3]+H[n-2])*S[-1]-H[n-2]*S[-2])/H[n-3]\n",
    "    S = np.insert(S, 0, t1)\n",
    "    S = np.append(S, t2)\n",
    "    \n",
    "print(\"New S = \")\n",
    "print(S)"
   ]
  },
  {
   "cell_type": "code",
   "execution_count": 6,
   "id": "082bc783",
   "metadata": {},
   "outputs": [
    {
     "name": "stdout",
     "output_type": "stream",
     "text": [
      "0.005282625738508074 -0.05539364147550918 -0.3034051792569654 27.6632\n"
     ]
    }
   ],
   "source": [
    "ai = np.zeros(n-1)\n",
    "bi = np.zeros(n-1)\n",
    "ci = np.zeros(n-1)\n",
    "di = np.zeros(n-1)\n",
    "\n",
    "for i in range(n-1):\n",
    "    ai[ i ] = (S[ i+1 ] - S[ i ]) / (6 * H[ i ])\n",
    "    bi[ i ] = S[ i ] / 2\n",
    "    ci[ i ] = (float(dataY[ i+1 ]) - float(dataY[ i ])) / H[ i ] - (2 * H[ i ] * S[ i ] + H[ i ] * S[ i+1 ]) / 6\n",
    "    di[ i ] = float(dataY[ i ])\n",
    "    \n",
    "print(ai[7], bi[7], ci[7], di[7])"
   ]
  },
  {
   "cell_type": "code",
   "execution_count": 7,
   "id": "1026eab5",
   "metadata": {},
   "outputs": [],
   "source": [
    "# P3(x)i = ai(x-xi)^3 + bi(x-xi)^2 + ci(x-xi) + di\n",
    "def Poly(x, i):\n",
    "    return ai[i]*(x-dataX[i])**3+bi[i]*(x-dataX[i])**2+ci[i]*(x-dataX[i])+di[i]\n",
    "        "
   ]
  },
  {
   "cell_type": "code",
   "execution_count": 8,
   "id": "7712b7ec",
   "metadata": {},
   "outputs": [
    {
     "data": {
      "text/plain": "<Figure size 432x288 with 1 Axes>",
      "image/png": "[encoded data removed]"
     },
     "metadata": {
      "needs_background": "light"
     },
     "output_type": "display_data"
    }
   ],
   "source": [
    "plt.plot(dataX, dataY, '.')\n",
    "\n",
    "# Print every poly in data interval  \n",
    "for i in range(n-1):\n",
    "    d = np.linspace(dataX[ i ], dataX[ i+1 ], 100)\n",
    "    plt.plot(d, Poly(d, i), '--')\n",
    "    \n",
    "plt.show()"
   ]
  },
  {
   "cell_type": "code",
   "execution_count": 8,
   "id": "b8c6908a",
   "metadata": {},
   "outputs": [],
   "source": []
  }
 ],
 "metadata": {
  "kernelspec": {
   "display_name": "Python 3",
   "language": "python",
   "name": "python3"
  },
  "language_info": {
   "codemirror_mode": {
    "name": "ipython",
    "version": 3
   },
   "file_extension": ".py",
   "mimetype": "text/x-python",
   "name": "python",
   "nbconvert_exporter": "python",
   "pygments_lexer": "ipython3",
   "version": "3.8.8"
  }
 },
 "nbformat": 4,
 "nbformat_minor": 5
}